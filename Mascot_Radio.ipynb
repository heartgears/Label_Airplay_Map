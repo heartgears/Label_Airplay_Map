{
 "cells": [
  {
   "cell_type": "code",
   "execution_count": 3,
   "metadata": {},
   "outputs": [],
   "source": [
    "import pandas as pd\n",
    "import glob\n",
    "import os\n",
    "import numpy as np"
   ]
  },
  {
   "cell_type": "code",
   "execution_count": 4,
   "metadata": {},
   "outputs": [
    {
     "data": {
      "text/plain": [
       "['/Users/hunter/Downloads/Complete_Mascot_Radio_Analysis/Song_CSV_Files/Crobot-Low Life 2019 - Crobot-Low Life 2019.csv',\n",
       " '/Users/hunter/Downloads/Complete_Mascot_Radio_Analysis/Song_CSV_Files/BLACK_STONE_CHERRY_In_Our_Dreams_2020 - SongAnalysis_Song_History_BLACK_STONE_CHERRY_In_Our_Dreams.csv',\n",
       " '/Users/hunter/Downloads/Complete_Mascot_Radio_Analysis/Song_CSV_Files/BLACK_STONE_CHERRY_Bad_Habit_2018 - SongAnalysis_Song_History_BLACK_STONE_CHERRY_Bad_Habit.csv',\n",
       " '/Users/hunter/Downloads/Complete_Mascot_Radio_Analysis/Song_CSV_Files/Shamans Harvest-Voices 2022 - Shamans Harvest-Voices 2022.csv',\n",
       " '/Users/hunter/Downloads/Complete_Mascot_Radio_Analysis/Song_CSV_Files/10_Years_The_Unknown_2021 - 10 Years-The Unknown 2021.csv',\n",
       " '/Users/hunter/Downloads/Complete_Mascot_Radio_Analysis/Song_CSV_Files/Shamans_Harvest_In_Chains_2015 - Shamans_Harvest_In_Chains_2015.csv',\n",
       " '/Users/hunter/Downloads/Complete_Mascot_Radio_Analysis/Song_CSV_Files/POD-Listening for the Silence 2018 - POD-Listening for the Silence 2018.csv',\n",
       " '/Users/hunter/Downloads/Complete_Mascot_Radio_Analysis/Song_CSV_Files/Crobot-Low Life 2020 - Crobot-Low Life 2020.csv',\n",
       " '/Users/hunter/Downloads/Complete_Mascot_Radio_Analysis/Song_CSV_Files/BLACK_STONE_CHERRY_Ringin_In_My_Head_2022 - SongAnalysis_Song_History_BLACK_STONE_CHERRY_Ringin__In_My_Head.csv',\n",
       " '/Users/hunter/Downloads/Complete_Mascot_Radio_Analysis/Song_CSV_Files/Shamans Harvest-In Chains 2016 - Shamans Harvest-In Chains 2016.csv',\n",
       " '/Users/hunter/Downloads/Complete_Mascot_Radio_Analysis/Song_CSV_Files/BLACK_STONE_CHERRY_Soul_Machine_2016 - SongAnalysis_Song_History_BLACK_STONE_CHERRY_Soul_Machine.csv',\n",
       " '/Users/hunter/Downloads/Complete_Mascot_Radio_Analysis/Song_CSV_Files/10 Years-Novacaine 2017 - 10 Years-Novacaine 2017.csv',\n",
       " '/Users/hunter/Downloads/Complete_Mascot_Radio_Analysis/Song_CSV_Files/Shamans Harvest-Voices 2021 - Shamans Harvest-Voices 2021.csv',\n",
       " '/Users/hunter/Downloads/Complete_Mascot_Radio_Analysis/Song_CSV_Files/10_Years_The_Shift_2020 - 10 Years-The Shift 2020.csv',\n",
       " '/Users/hunter/Downloads/Complete_Mascot_Radio_Analysis/Song_CSV_Files/BLACK_STONE_CHERRY_Cheaper_To_Drink_Alone_2017 - SongAnalysis_Song_History_BLACK_STONE_CHERRY_Cheaper_To_Drink_Alone.csv',\n",
       " '/Users/hunter/Downloads/Complete_Mascot_Radio_Analysis/Song_CSV_Files/Crobot-Gasoline 2020 - Crobot-Gasoline 2020.csv',\n",
       " '/Users/hunter/Downloads/Complete_Mascot_Radio_Analysis/Song_CSV_Files/POD-Listening for the Silence 2019 - POD-Listening for the Silence 2019.csv',\n",
       " '/Users/hunter/Downloads/Complete_Mascot_Radio_Analysis/Song_CSV_Files/POD-Rockin with the Best 2019 - POD-Rockin with the Best 2019.csv',\n",
       " '/Users/hunter/Downloads/Complete_Mascot_Radio_Analysis/Song_CSV_Files/10 Years-Novacaine 2018 - 10 Years-Novacaine 2018.csv',\n",
       " '/Users/hunter/Downloads/Complete_Mascot_Radio_Analysis/Song_CSV_Files/CROBOT_Set_You_Free_2022 - SongAnalysis_Song_History_CROBOT_Set_You_Free.csv',\n",
       " '/Users/hunter/Downloads/Complete_Mascot_Radio_Analysis/Song_CSV_Files/MONSTER_TRUCK_Evolution_2018 - SongAnalysis_Song_History_MONSTER_TRUCK_Evolution.csv',\n",
       " '/Users/hunter/Downloads/Complete_Mascot_Radio_Analysis/Song_CSV_Files/BSC-Again 2021 - BSC-Again 2021.csv',\n",
       " '/Users/hunter/Downloads/Complete_Mascot_Radio_Analysis/Song_CSV_Files/BSC-Give Me One Reason 2021 - BSC-Give Me One Reason 2021.csv',\n",
       " '/Users/hunter/Downloads/Complete_Mascot_Radio_Analysis/Song_CSV_Files/SHAMAN_S_HARVEST_Dangerous_2014 - SongAnalysis_Song_History_SHAMAN_S_HARVEST_Dangerous.csv',\n",
       " '/Users/hunter/Downloads/Complete_Mascot_Radio_Analysis/Song_CSV_Files/Shamans Harvest-The Come Up 2017 - Shamans Harvest-The Come Up 2017.csv',\n",
       " '/Users/hunter/Downloads/Complete_Mascot_Radio_Analysis/Song_CSV_Files/SHAMAN_S_HARVEST_Here_It_Comes_2016 - SongAnalysis_Song_History_SHAMAN_S_HARVEST_Here_It_Comes.csv',\n",
       " '/Users/hunter/Downloads/Complete_Mascot_Radio_Analysis/Song_CSV_Files/SHAMAN_S_HARVEST_Dirty_Diana_2015 - SongAnalysis_Song_History_SHAMAN_S_HARVEST_Dirty_Diana.csv',\n",
       " '/Users/hunter/Downloads/Complete_Mascot_Radio_Analysis/Song_CSV_Files/Shamans Harvest-The Devil in our Wake 2018 - Shamans Harvest-The Devil in our Wake 2018.csv',\n",
       " '/Users/hunter/Downloads/Complete_Mascot_Radio_Analysis/Song_CSV_Files/OTHERWISE_Lifted_2019 - SongAnalysis_Song_History_OTHERWISE_Lifted.csv',\n",
       " '/Users/hunter/Downloads/Complete_Mascot_Radio_Analysis/Song_CSV_Files/10_Years_Burnout_2018 - 10 Years-Burnout 2018.csv',\n",
       " '/Users/hunter/Downloads/Complete_Mascot_Radio_Analysis/Song_CSV_Files/BSC-Again 2020 - BSC-Again 2020.csv']"
      ]
     },
     "execution_count": 4,
     "metadata": {},
     "output_type": "execute_result"
    }
   ],
   "source": [
    "path = os.getcwd()\n",
    "files = glob.glob(path + '/Song_CSV_Files/*.csv')\n",
    "files"
   ]
  },
  {
   "cell_type": "code",
   "execution_count": 6,
   "metadata": {},
   "outputs": [
    {
     "ename": "AttributeError",
     "evalue": "'list' object has no attribute 'Station'",
     "output_type": "error",
     "traceback": [
      "\u001b[0;31m---------------------------------------------------------------------------\u001b[0m",
      "\u001b[0;31mAttributeError\u001b[0m                            Traceback (most recent call last)",
      "\u001b[0;32m/var/folders/l2/9n6dh_gs5ns9mt3r9k6wc1y40000gn/T/ipykernel_4189/4112012183.py\u001b[0m in \u001b[0;36m<module>\u001b[0;34m\u001b[0m\n\u001b[1;32m      3\u001b[0m \u001b[0;32mfor\u001b[0m \u001b[0mfile\u001b[0m \u001b[0;32min\u001b[0m \u001b[0mfiles\u001b[0m\u001b[0;34m:\u001b[0m\u001b[0;34m\u001b[0m\u001b[0;34m\u001b[0m\u001b[0m\n\u001b[1;32m      4\u001b[0m \u001b[0;34m\u001b[0m\u001b[0m\n\u001b[0;32m----> 5\u001b[0;31m     \u001b[0mstation\u001b[0m \u001b[0;34m=\u001b[0m \u001b[0mfiles\u001b[0m\u001b[0;34m.\u001b[0m\u001b[0mStation\u001b[0m\u001b[0;34m\u001b[0m\u001b[0;34m\u001b[0m\u001b[0m\n\u001b[0m\u001b[1;32m      6\u001b[0m     \u001b[0mmarket\u001b[0m \u001b[0;34m=\u001b[0m \u001b[0mfiles\u001b[0m\u001b[0;34m.\u001b[0m\u001b[0mMarket\u001b[0m\u001b[0;34m\u001b[0m\u001b[0;34m\u001b[0m\u001b[0m\n\u001b[1;32m      7\u001b[0m     \u001b[0mformat\u001b[0m \u001b[0;34m=\u001b[0m \u001b[0mfiles\u001b[0m\u001b[0;34m.\u001b[0m\u001b[0mFormat\u001b[0m\u001b[0;34m\u001b[0m\u001b[0;34m\u001b[0m\u001b[0m\n",
      "\u001b[0;31mAttributeError\u001b[0m: 'list' object has no attribute 'Station'"
     ]
    }
   ],
   "source": [
    "all_artists = []\n",
    "\n",
    "for file in files:\n",
    "   \n",
    "    station = files.Station\n",
    "    market = files.Market\n",
    "    format = files.Format\n",
    "    spins = files['Total Spins']\n",
    "    artist_name = files.Artist\n",
    "    song_name = files.Song\n",
    "    year = files.Year\n",
    "\n",
    "    try:\n",
    "        df = pd.read_csv(file, on_bad_lines = 'skip')\n",
    "        df['Station'] = station\n",
    "        df['Market'] = market\n",
    "        df['Format'] = format\n",
    "        df['Spins'] = spins\n",
    "        df['Artist'] = artist_name\n",
    "        df['Song'] = song_name\n",
    "        df['Year'] = year\n",
    "\n",
    "        all_artists.append(df)\n",
    "    except:\n",
    "        print(file)\n",
    "\n",
    "complete_df = pd.concat(file)\n",
    "complete_df"
   ]
  },
  {
   "cell_type": "code",
   "execution_count": null,
   "metadata": {},
   "outputs": [],
   "source": []
  }
 ],
 "metadata": {
  "kernelspec": {
   "display_name": "Python 3 (ipykernel)",
   "language": "python",
   "name": "python3"
  },
  "language_info": {
   "codemirror_mode": {
    "name": "ipython",
    "version": 3
   },
   "file_extension": ".py",
   "mimetype": "text/x-python",
   "name": "python",
   "nbconvert_exporter": "python",
   "pygments_lexer": "ipython3",
   "version": "3.9.7"
  },
  "vscode": {
   "interpreter": {
    "hash": "aaf5eebc0d07d5d784920d10329417a224e7d79581139eb435f6454eebe6f844"
   }
  }
 },
 "nbformat": 4,
 "nbformat_minor": 2
}
