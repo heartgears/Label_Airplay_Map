# Import dependencies

import pandas as pd
import glob
import os
import numpy as np

# Grab song csv files from folder

path = os.getcwd()
files = glob.glob(path + '/Song_CSV_Files/*.csv')
files

# Concatenate tables and files into one dataframe

all_artists = []

for file in files:
   
    station = files.Station
    market = files.Market
    format = files.Format
    spins = files['Total Spins']
    artist_name = files.Artist
    song_name = files.Song
    year = files.Year

    try:
        df = pd.read_csv(file, on_bad_lines = 'skip')
        df['Station'] = station
        df['Market'] = market
        df['Format'] = format
        df['Spins'] = spins
        df['Artist'] = artist_name
        df['Song'] = song_name
        df['Year'] = year

        all_artists.append(df)
    except:
        print(file)

complete_df = pd.concat(file)
complete_df
